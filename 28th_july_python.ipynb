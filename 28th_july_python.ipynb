{
 "cells": [
  {
   "cell_type": "markdown",
   "id": "9ae8172a",
   "metadata": {},
   "source": [
    "Assignment 1 - (Python)\n",
    "\n",
    "1. Write a Python program to check if a given string is an anagram."
   ]
  },
  {
   "cell_type": "code",
   "execution_count": 1,
   "id": "eb599cdc",
   "metadata": {},
   "outputs": [
    {
     "name": "stdout",
     "output_type": "stream",
     "text": [
      "Enter string 1Java\n",
      "Enter string 2Avaj\n",
      "string 1 is ['a', 'a', 'j', 'v']\n",
      "string 2 is ['a', 'a', 'j', 'v']\n",
      "Strings are Anagram\n"
     ]
    }
   ],
   "source": [
    "#take input from user\n",
    "str1 = str(input(\"Enter string 1\"))\n",
    "str2 = str(input(\"Enter string 2\"))\n",
    "#lower case, sort & print \n",
    "str1 = sorted(str1.lower())\n",
    "str2 = sorted(str2.lower())\n",
    "print(\"string 1 is\", str1)\n",
    "print(\"string 2 is\", str2)\n",
    "\n",
    "def checkanagram():\n",
    "    if(str1==str2):\n",
    "        return \"Strings are Anagram\"\n",
    "    else:\n",
    "        return \"strings are not anagram\"\n",
    "print(checkanagram())"
   ]
  },
  {
   "cell_type": "markdown",
   "id": "1666ebfb",
   "metadata": {},
   "source": [
    "2. Write a Python program to find the maximum and minimum values in a dictionary."
   ]
  },
  {
   "cell_type": "code",
   "execution_count": 3,
   "id": "3f6a1392",
   "metadata": {},
   "outputs": [
    {
     "name": "stdout",
     "output_type": "stream",
     "text": [
      "our dictionary elements are {'a': 200, 'b': 150, 'c': 250, 'd': 50}\n",
      "\n",
      "Maximum and minimum values are respectively:\n",
      "('c', 'd')\n"
     ]
    }
   ],
   "source": [
    "mydict = {'a':200, 'b':150, 'c':250, 'd':50}\n",
    "#funct to find max & min\n",
    "def maxmin(v):\n",
    "    return max(v, key=v.get), min(v, key=v.get)\n",
    "print(\"our dictionary elements are\", mydict)\n",
    "print(\"\\nMaximum and minimum values are respectively:\")\n",
    "print(maxmin(mydict))"
   ]
  },
  {
   "cell_type": "markdown",
   "id": "84bba5c5",
   "metadata": {},
   "source": [
    "3. Write a Python program to find the average of a list of numbers."
   ]
  },
  {
   "cell_type": "code",
   "execution_count": 4,
   "id": "e2e88a9a",
   "metadata": {},
   "outputs": [
    {
     "name": "stdout",
     "output_type": "stream",
     "text": [
      "enter number of elements to be insert:5\n",
      "Enter element: 10\n",
      "Enter element: 20\n",
      "Enter element: 35\n",
      "Enter element: 24\n",
      "Enter element: 5\n",
      "Average of elements in the list 18.8\n"
     ]
    }
   ],
   "source": [
    "n=int(input(\"enter number of elements to be insert:\"))\n",
    "a=[]\n",
    "for i in range(0,n):\n",
    "    num=int(input(\"Enter element: \"))\n",
    "    a.append(num)\n",
    "avg=sum(a)/n\n",
    "print(\"Average of elements in the list\",round(avg,2))"
   ]
  },
  {
   "cell_type": "markdown",
   "id": "91c6a374",
   "metadata": {},
   "source": [
    "4. Write a Python program to remove all vowels from a string."
   ]
  },
  {
   "cell_type": "code",
   "execution_count": 6,
   "id": "f1ad20fd",
   "metadata": {},
   "outputs": [
    {
     "name": "stdout",
     "output_type": "stream",
     "text": [
      "enter string:ineuron\n",
      "\n",
      "After removing Vowels:  nrn\n"
     ]
    }
   ],
   "source": [
    "str1 = str(input(\"enter string:\"))\n",
    "vowels = ['a', 'e', 'i', 'o', 'u', 'A', 'E', 'I', 'O', 'U']\n",
    "result = \"\"\n",
    "\n",
    "for i in range(len(str1)):\n",
    "    if str1[i] not in vowels:\n",
    "        result = result + str1[i]\n",
    "\n",
    "print(\"\\nAfter removing Vowels: \", result)"
   ]
  },
  {
   "cell_type": "markdown",
   "id": "6050a32e",
   "metadata": {},
   "source": [
    "5. Write a Python function to calculate the factorial of a number using recursion."
   ]
  },
  {
   "cell_type": "code",
   "execution_count": 9,
   "id": "58caa3f2",
   "metadata": {},
   "outputs": [
    {
     "name": "stdout",
     "output_type": "stream",
     "text": [
      "Enter a number: 6\n",
      "The factorial of num is 720\n"
     ]
    }
   ],
   "source": [
    "def recur_factorial(n):  \n",
    "   if n == 1:  \n",
    "       return n  \n",
    "   else:  \n",
    "       return n*recur_factorial(n-1)  \n",
    "# take input from the user  \n",
    "num = int(input(\"Enter a number: \"))  \n",
    "# check if the number is negative  \n",
    "if num < 0:  \n",
    "   print(\"Sorry, factorial does not exist for negative numbers\")  \n",
    "elif num == 0:  \n",
    "   print(\"The factorial of 0 is 1\")  \n",
    "else:  \n",
    "   print(\"The factorial of num is\",recur_factorial(num))\n"
   ]
  },
  {
   "cell_type": "markdown",
   "id": "275391ef",
   "metadata": {},
   "source": [
    "6. Write a Python program to merge two unsorted lists into a single sorted list using the merge sort algorithm."
   ]
  },
  {
   "cell_type": "code",
   "execution_count": 10,
   "id": "0bb781a5",
   "metadata": {},
   "outputs": [
    {
     "name": "stdout",
     "output_type": "stream",
     "text": [
      "Enter number of elements:3\n",
      "Enter element:4\n",
      "Enter element:7\n",
      "Enter element:2\n",
      "Enter number of elements:3\n",
      "Enter element:1\n",
      "Enter element:8\n",
      "Enter element:5\n",
      "Sorted list is: [1, 2, 4, 5, 7, 8]\n"
     ]
    }
   ],
   "source": [
    "l1=[]\n",
    "l2=[]\n",
    "n1=int(input(\"Enter number of elements:\"))\n",
    "for i in range(1,n1+1):\n",
    "    b=int(input(\"Enter element:\"))\n",
    "    l1.append(b)\n",
    "n2=int(input(\"Enter number of elements:\"))\n",
    "for i in range(1,n2+1):\n",
    "    d=int(input(\"Enter element:\"))\n",
    "    l2.append(d)\n",
    "new=l1+l2\n",
    "new.sort()\n",
    "print(\"Sorted list is:\",new)"
   ]
  },
  {
   "cell_type": "markdown",
   "id": "7aca7b30",
   "metadata": {},
   "source": [
    "7. Write a Python program to find the GCD (Greatest Common Divisor) of two numbers."
   ]
  },
  {
   "cell_type": "code",
   "execution_count": 18,
   "id": "68fb566e",
   "metadata": {},
   "outputs": [
    {
     "name": "stdout",
     "output_type": "stream",
     "text": [
      "GCD of 36 and 45 is 9\n"
     ]
    }
   ],
   "source": [
    "num1 = 36\n",
    "num2 = 45\n",
    "gcd = 1\n",
    "\n",
    "for i in range(1, min(num1, num2)):\n",
    "    if num1 % i == 0 and num2 % i == 0:\n",
    "        gcd = i\n",
    "print(\"GCD of\", num1, \"and\", num2, \"is\", gcd)"
   ]
  },
  {
   "cell_type": "markdown",
   "id": "d6231f65",
   "metadata": {},
   "source": [
    "8. Write a Python program to find the second-largest element in a list."
   ]
  },
  {
   "cell_type": "code",
   "execution_count": 19,
   "id": "6466c175",
   "metadata": {},
   "outputs": [
    {
     "name": "stdout",
     "output_type": "stream",
     "text": [
      "The second largest element of the list is: 30\n"
     ]
    }
   ],
   "source": [
    "# declare the list  \n",
    "list1 = [20, 30, 40, 25, 10]  \n",
    "# sorting the list  \n",
    "list1.sort()  \n",
    "#displaying the second last element of the list  \n",
    "print(\"The second largest element of the list is:\", list1[-2])  "
   ]
  },
  {
   "cell_type": "markdown",
   "id": "a5d03fdc",
   "metadata": {},
   "source": [
    "9. Write a Python program to find the longest common subsequence between two strings using dynamic programming."
   ]
  },
  {
   "cell_type": "code",
   "execution_count": null,
   "id": "3a0656b3",
   "metadata": {},
   "outputs": [],
   "source": [
    "str1 = input('Enter first string: ')\n",
    "str2 = input('Enter second string: ')\n",
    "\n",
    "def lcs(str1, str2):\n",
    "    \n",
    "     for i in range(len(str1) + 1):\n",
    "       \n",
    "        "
   ]
  }
 ],
 "metadata": {
  "kernelspec": {
   "display_name": "Python 3 (ipykernel)",
   "language": "python",
   "name": "python3"
  },
  "language_info": {
   "codemirror_mode": {
    "name": "ipython",
    "version": 3
   },
   "file_extension": ".py",
   "mimetype": "text/x-python",
   "name": "python",
   "nbconvert_exporter": "python",
   "pygments_lexer": "ipython3",
   "version": "3.10.0"
  }
 },
 "nbformat": 4,
 "nbformat_minor": 5
}
